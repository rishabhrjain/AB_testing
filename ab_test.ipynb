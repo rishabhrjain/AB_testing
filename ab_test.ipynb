{
 "cells": [
  {
   "cell_type": "markdown",
   "metadata": {},
   "source": [
    "#### A/B Testing  \n",
    "Here, we have been given a dataset that has information of users visiting a website and then subsequently whether they buy a product or not which is indicated by converted (1 - yes, 0 - No)\n",
    "\n",
    "Suppose our team came up with a new design of the website with the hope that more users would end up buing the product. As a Data Scientist, I would be curious to collect some data and make sure if we have data to support that claim. Hence we perform an A/B test. Fortunately, we have been provided the data set with 2 sets of groups - control (users shown old design) and treatment (users shown new design) groups. Each group should have unique set of users. "
   ]
  },
  {
   "cell_type": "code",
   "execution_count": 6,
   "metadata": {},
   "outputs": [],
   "source": [
    "import pandas as pd\n",
    "import numpy as np\n",
    "\n",
    "import matplotlib.pyplot as plt\n",
    "import seaborn as sns"
   ]
  },
  {
   "cell_type": "code",
   "execution_count": 2,
   "metadata": {},
   "outputs": [],
   "source": [
    "df = pd.read_csv('./ab_test.csv')"
   ]
  },
  {
   "cell_type": "code",
   "execution_count": 3,
   "metadata": {},
   "outputs": [
    {
     "data": {
      "text/html": [
       "<div>\n",
       "<style scoped>\n",
       "    .dataframe tbody tr th:only-of-type {\n",
       "        vertical-align: middle;\n",
       "    }\n",
       "\n",
       "    .dataframe tbody tr th {\n",
       "        vertical-align: top;\n",
       "    }\n",
       "\n",
       "    .dataframe thead th {\n",
       "        text-align: right;\n",
       "    }\n",
       "</style>\n",
       "<table border=\"1\" class=\"dataframe\">\n",
       "  <thead>\n",
       "    <tr style=\"text-align: right;\">\n",
       "      <th></th>\n",
       "      <th>id</th>\n",
       "      <th>time</th>\n",
       "      <th>con_treat</th>\n",
       "      <th>page</th>\n",
       "      <th>converted</th>\n",
       "    </tr>\n",
       "  </thead>\n",
       "  <tbody>\n",
       "    <tr>\n",
       "      <th>0</th>\n",
       "      <td>851104</td>\n",
       "      <td>11:48.6</td>\n",
       "      <td>control</td>\n",
       "      <td>old_page</td>\n",
       "      <td>0</td>\n",
       "    </tr>\n",
       "    <tr>\n",
       "      <th>1</th>\n",
       "      <td>804228</td>\n",
       "      <td>01:45.2</td>\n",
       "      <td>control</td>\n",
       "      <td>old_page</td>\n",
       "      <td>0</td>\n",
       "    </tr>\n",
       "    <tr>\n",
       "      <th>2</th>\n",
       "      <td>661590</td>\n",
       "      <td>55:06.2</td>\n",
       "      <td>treatment</td>\n",
       "      <td>new_page</td>\n",
       "      <td>0</td>\n",
       "    </tr>\n",
       "    <tr>\n",
       "      <th>3</th>\n",
       "      <td>853541</td>\n",
       "      <td>28:03.1</td>\n",
       "      <td>treatment</td>\n",
       "      <td>new_page</td>\n",
       "      <td>0</td>\n",
       "    </tr>\n",
       "    <tr>\n",
       "      <th>4</th>\n",
       "      <td>864975</td>\n",
       "      <td>52:26.2</td>\n",
       "      <td>control</td>\n",
       "      <td>old_page</td>\n",
       "      <td>1</td>\n",
       "    </tr>\n",
       "  </tbody>\n",
       "</table>\n",
       "</div>"
      ],
      "text/plain": [
       "       id     time  con_treat      page  converted\n",
       "0  851104  11:48.6    control  old_page          0\n",
       "1  804228  01:45.2    control  old_page          0\n",
       "2  661590  55:06.2  treatment  new_page          0\n",
       "3  853541  28:03.1  treatment  new_page          0\n",
       "4  864975  52:26.2    control  old_page          1"
      ]
     },
     "execution_count": 3,
     "metadata": {},
     "output_type": "execute_result"
    }
   ],
   "source": [
    "df.head()"
   ]
  },
  {
   "cell_type": "code",
   "execution_count": 48,
   "metadata": {},
   "outputs": [
    {
     "data": {
      "text/plain": [
       "id           0\n",
       "time         0\n",
       "con_treat    0\n",
       "page         0\n",
       "converted    0\n",
       "hour         0\n",
       "dtype: int64"
      ]
     },
     "execution_count": 48,
     "metadata": {},
     "output_type": "execute_result"
    }
   ],
   "source": [
    "# check null values\n",
    "df.isnull().sum()"
   ]
  },
  {
   "cell_type": "code",
   "execution_count": 58,
   "metadata": {},
   "outputs": [],
   "source": [
    "# find duplicates and drop (can keep the first occurence). If datetime column is given, we can sort by time and keep the first. \n",
    "df = df.drop_duplicates(subset=['id'], keep='first')"
   ]
  },
  {
   "cell_type": "code",
   "execution_count": 61,
   "metadata": {},
   "outputs": [],
   "source": [
    "assert df.shape[0] == df['id'].nunique()"
   ]
  },
  {
   "cell_type": "code",
   "execution_count": 62,
   "metadata": {},
   "outputs": [],
   "source": [
    "control = df[df['con_treat'] == 'control']\n",
    "treatment = df[df['con_treat'] == 'treatment']"
   ]
  },
  {
   "cell_type": "code",
   "execution_count": 142,
   "metadata": {},
   "outputs": [
    {
     "name": "stdout",
     "output_type": "stream",
     "text": [
      "control group statistics: mean - 0.12, std - 0.33\n",
      "Treatment group statistics: mean - 0.12, std - 0.32\n"
     ]
    }
   ],
   "source": [
    "print(f'control group statistics: mean - {control.converted.mean():.2f}, std - {control.converted.std():.2f}')\n",
    "print(f'Treatment group statistics: mean - {treatment.converted.mean():.2f}, std - {treatment.converted.std():.2f}')"
   ]
  },
  {
   "cell_type": "code",
   "execution_count": 145,
   "metadata": {
    "scrolled": false
   },
   "outputs": [
    {
     "data": {
      "image/png": "[encoded data removed]",
      "text/plain": [
       "<Figure size 432x432 with 1 Axes>"
      ]
     },
     "metadata": {
      "needs_background": "light"
     },
     "output_type": "display_data"
    }
   ],
   "source": [
    "fig = plt.figure(figsize=(6,6))\n",
    "sns.histplot(x = 'con_treat', hue = 'converted', data = df, stat='probability')\n",
    "plt.savefig('./control_treatment_distribution.png', )"
   ]
  },
  {
   "cell_type": "markdown",
   "metadata": {},
   "source": [
    "#### check the distribution of time (minute granularity is given).   \n",
    "If datetime is goven, we can make sure that both groups were\n",
    "shown the website during similar times (like both websites were shown during all hours and days)\n",
    "\n",
    "we can check the density distribution of the minute across both control and treatment groups\n",
    "\n"
   ]
  },
  {
   "cell_type": "code",
   "execution_count": 77,
   "metadata": {},
   "outputs": [
    {
     "name": "stderr",
     "output_type": "stream",
     "text": [
      "<ipython-input-77-3028f959e097>:1: SettingWithCopyWarning: \n",
      "A value is trying to be set on a copy of a slice from a DataFrame.\n",
      "Try using .loc[row_indexer,col_indexer] = value instead\n",
      "\n",
      "See the caveats in the documentation: https://pandas.pydata.org/pandas-docs/stable/user_guide/indexing.html#returning-a-view-versus-a-copy\n",
      "  df['minute'] = df['time'].apply(lambda x: int(str(x).split(':')[0]))\n"
     ]
    }
   ],
   "source": [
    "df['minute'] = df['time'].apply(lambda x: int(str(x).split(':')[0]))"
   ]
  },
  {
   "cell_type": "code",
   "execution_count": 151,
   "metadata": {},
   "outputs": [
    {
     "data": {
      "image/png": "[encoded data removed]",
      "text/plain": [
       "<Figure size 576x432 with 1 Axes>"
      ]
     },
     "metadata": {
      "needs_background": "light"
     },
     "output_type": "display_data"
    },
    {
     "data": {
      "text/plain": [
       "<Figure size 432x288 with 0 Axes>"
      ]
     },
     "metadata": {},
     "output_type": "display_data"
    }
   ],
   "source": [
    "plt.figure(figsize=(8,6))\n",
    "sns.kdeplot(x = 'minute', data = df, hue = 'con_treat')\n",
    "plt.title('Distibution of both groups across Time')\n",
    "plt.figure('Density distribution of 2 groups wrt Time')\n",
    "plt.savefig('./Density distribution wrt Time for both groups')"
   ]
  },
  {
   "cell_type": "code",
   "execution_count": null,
   "metadata": {},
   "outputs": [],
   "source": []
  },
  {
   "cell_type": "markdown",
   "metadata": {},
   "source": [
    "#### statistical test\n",
    "Null hypo - both control and treatment group are similar and difference is statiscally insignificant. \n",
    "\n",
    "we set alpha = 0.05  \n",
    "        power = 1 - beta = 0.8  (probability of rejecting null hypothesis when its false)\n",
    "        effect size, lets say we want to observe a change of conversion from 12 % to 14%\n",
    "Based on this, we can calculate the required sample size"
   ]
  },
  {
   "cell_type": "code",
   "execution_count": 79,
   "metadata": {},
   "outputs": [
    {
     "data": {
      "text/html": [
       "<div>\n",
       "<style scoped>\n",
       "    .dataframe tbody tr th:only-of-type {\n",
       "        vertical-align: middle;\n",
       "    }\n",
       "\n",
       "    .dataframe tbody tr th {\n",
       "        vertical-align: top;\n",
       "    }\n",
       "\n",
       "    .dataframe thead th {\n",
       "        text-align: right;\n",
       "    }\n",
       "</style>\n",
       "<table border=\"1\" class=\"dataframe\">\n",
       "  <thead>\n",
       "    <tr style=\"text-align: right;\">\n",
       "      <th></th>\n",
       "      <th>id</th>\n",
       "      <th>time</th>\n",
       "      <th>con_treat</th>\n",
       "      <th>page</th>\n",
       "      <th>converted</th>\n",
       "      <th>hour</th>\n",
       "      <th>minute</th>\n",
       "    </tr>\n",
       "  </thead>\n",
       "  <tbody>\n",
       "    <tr>\n",
       "      <th>0</th>\n",
       "      <td>851104</td>\n",
       "      <td>11:48.6</td>\n",
       "      <td>control</td>\n",
       "      <td>old_page</td>\n",
       "      <td>0</td>\n",
       "      <td>11</td>\n",
       "      <td>11</td>\n",
       "    </tr>\n",
       "    <tr>\n",
       "      <th>1</th>\n",
       "      <td>804228</td>\n",
       "      <td>01:45.2</td>\n",
       "      <td>control</td>\n",
       "      <td>old_page</td>\n",
       "      <td>0</td>\n",
       "      <td>1</td>\n",
       "      <td>1</td>\n",
       "    </tr>\n",
       "    <tr>\n",
       "      <th>2</th>\n",
       "      <td>661590</td>\n",
       "      <td>55:06.2</td>\n",
       "      <td>treatment</td>\n",
       "      <td>new_page</td>\n",
       "      <td>0</td>\n",
       "      <td>55</td>\n",
       "      <td>55</td>\n",
       "    </tr>\n",
       "    <tr>\n",
       "      <th>3</th>\n",
       "      <td>853541</td>\n",
       "      <td>28:03.1</td>\n",
       "      <td>treatment</td>\n",
       "      <td>new_page</td>\n",
       "      <td>0</td>\n",
       "      <td>28</td>\n",
       "      <td>28</td>\n",
       "    </tr>\n",
       "    <tr>\n",
       "      <th>4</th>\n",
       "      <td>864975</td>\n",
       "      <td>52:26.2</td>\n",
       "      <td>control</td>\n",
       "      <td>old_page</td>\n",
       "      <td>1</td>\n",
       "      <td>52</td>\n",
       "      <td>52</td>\n",
       "    </tr>\n",
       "  </tbody>\n",
       "</table>\n",
       "</div>"
      ],
      "text/plain": [
       "       id     time  con_treat      page  converted  hour  minute\n",
       "0  851104  11:48.6    control  old_page          0    11      11\n",
       "1  804228  01:45.2    control  old_page          0     1       1\n",
       "2  661590  55:06.2  treatment  new_page          0    55      55\n",
       "3  853541  28:03.1  treatment  new_page          0    28      28\n",
       "4  864975  52:26.2    control  old_page          1    52      52"
      ]
     },
     "execution_count": 79,
     "metadata": {},
     "output_type": "execute_result"
    }
   ],
   "source": [
    "df.head()"
   ]
  },
  {
   "cell_type": "markdown",
   "metadata": {},
   "source": [
    "#### Here we perform a Z-test since data is sufficiently large and the assumption is that with a large sample, the distribution is normal"
   ]
  },
  {
   "cell_type": "code",
   "execution_count": 95,
   "metadata": {},
   "outputs": [],
   "source": [
    "import scipy.stats as stats\n",
    "import statsmodels.stats.api as sms\n",
    "import math\n",
    "\n",
    "# Some plot styling preferences\n",
    "# plt.style.use('seaborn-whitegrid')\n",
    "# font = {'family' : 'Helvetica',\n",
    "#         'weight' : 'bold',\n",
    "#         'size'   : 14}\n",
    "\n",
    "# mpl.rc('font', **font)\n",
    "\n",
    "def ret_samplesize(effect_a = 0.12, effect_b = 0.14, power = 0.8, alpha = 0.01, ratio = 1):\n",
    "    effect_size = sms.proportion_effectsize(effect_a, effect_b)    # Calculating effect size based on our expected rates\n",
    "\n",
    "    required_n = sms.NormalIndPower().solve_power(\n",
    "        effect_size, \n",
    "        power=power, \n",
    "        alpha=alpha, \n",
    "        ratio=ratio,\n",
    "        alternative='two-sided'\n",
    "        )                                                  # Calculating sample size needed\n",
    "\n",
    "    required_n = math.ceil(required_n)                          # Rounding up to next whole number                          \n",
    "    return required_n"
   ]
  },
  {
   "cell_type": "code",
   "execution_count": 96,
   "metadata": {},
   "outputs": [
    {
     "data": {
      "text/plain": [
       "6596"
      ]
     },
     "execution_count": 96,
     "metadata": {},
     "output_type": "execute_result"
    }
   ],
   "source": [
    "ret_samplesize(alpha=0.01)"
   ]
  },
  {
   "cell_type": "code",
   "execution_count": 149,
   "metadata": {},
   "outputs": [
    {
     "name": "stderr",
     "output_type": "stream",
     "text": [
      "C:\\ProgramData\\Anaconda3\\lib\\site-packages\\seaborn\\_decorators.py:36: FutureWarning: Pass the following variables as keyword args: x, y. From version 0.12, the only valid positional argument will be `data`, and passing other arguments without an explicit keyword will result in an error or misinterpretation.\n",
      "  warnings.warn(\n"
     ]
    },
    {
     "data": {
      "image/png": "[encoded data removed]",
      "text/plain": [
       "<Figure size 432x432 with 1 Axes>"
      ]
     },
     "metadata": {
      "needs_background": "light"
     },
     "output_type": "display_data"
    }
   ],
   "source": [
    "# with decreasing p-value, see how the number of samples required increase\n",
    "\n",
    "pvalues = [0.05, 0.04, 0.03, 0.02, 0.01]\n",
    "expected_sample_size = []\n",
    "\n",
    "for pvalue in pvalues:\n",
    "    \n",
    "    size = ret_samplesize(alpha = pvalue)\n",
    "    expected_sample_size.append(size)\n",
    "    \n",
    "\n",
    "fig = plt.figure(figsize=(6,6))\n",
    "plt.title('alpha vs expected sample size')\n",
    "plt.xlabel('alpha ')\n",
    "plt.ylabel('sample size required', rotation = 0, labelpad=50)\n",
    "\n",
    "\n",
    "plt.xticks(pvalues)\n",
    "\n",
    "sns.lineplot(pvalues, expected_sample_size)\n",
    "plt.savefig('./alpha vs expected sample size.png')"
   ]
  },
  {
   "cell_type": "code",
   "execution_count": 45,
   "metadata": {},
   "outputs": [],
   "source": [
    "from statsmodels.stats.proportion import proportions_ztest, proportion_confint\n",
    "\n",
    "control_results = df[df['con_treat'] == 'control']['converted']\n",
    "treatment_results = df[df['con_treat'] == 'treatment']['converted']\n",
    "\n",
    "n_con = control_results.count()\n",
    "n_treat = treatment_results.count()\n",
    "\n",
    "successes = [control_results.sum(), treatment_results.sum()]\n",
    "nobs = [n_con, n_treat]\n",
    "\n"
   ]
  },
  {
   "cell_type": "code",
   "execution_count": 113,
   "metadata": {},
   "outputs": [
    {
     "name": "stdout",
     "output_type": "stream",
     "text": [
      "z statistic: 1.24\n",
      "p-value: 0.216\n",
      "ci 95% for control group: [0.119, 0.122]\n",
      "ci 95% for treatment group: [0.117, 0.121]\n"
     ]
    }
   ],
   "source": [
    "z_stat, pval = proportions_ztest(successes, nobs=nobs)\n",
    "(lower_con, lower_treat), (upper_con, upper_treat) = proportion_confint(successes, nobs=nobs, alpha=0.05)\n",
    "\n",
    "print(f'z statistic: {z_stat:.2f}')\n",
    "print(f'p-value: {pval:.3f}')\n",
    "print(f'ci 95% for control group: [{lower_con:.3f}, {upper_con:.3f}]')\n",
    "print(f'ci 95% for treatment group: [{lower_treat:.3f}, {upper_treat:.3f}]')"
   ]
  },
  {
   "cell_type": "markdown",
   "metadata": {},
   "source": [
    "#### Here we see that the p-value of the test is 0.21 which is > 0.05 (significance value). Hence we fail to reject the null hypothesis.   \n",
    "Also the 95% confidence interval for the treatment group is from 11.7% to 12.1% which overlaps with the control group interval. Infact the conversion in treatment has dropped when compared to the control group. Hence its not feasible to deploy the new design. "
   ]
  },
  {
   "cell_type": "code",
   "execution_count": null,
   "metadata": {},
   "outputs": [],
   "source": []
  }
 ],
 "metadata": {
  "kernelspec": {
   "display_name": "Python 3",
   "language": "python",
   "name": "python3"
  },
  "language_info": {
   "codemirror_mode": {
    "name": "ipython",
    "version": 3
   },
   "file_extension": ".py",
   "mimetype": "text/x-python",
   "name": "python",
   "nbconvert_exporter": "python",
   "pygments_lexer": "ipython3",
   "version": "3.8.5"
  }
 },
 "nbformat": 4,
 "nbformat_minor": 4
}
